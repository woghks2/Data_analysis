{
 "cells": [
  {
   "cell_type": "markdown",
   "metadata": {},
   "source": [
    "# 185. Department Top Three Salaries\n",
    "* https://leetcode.com/problems/department-top-three-salaries/description/?lang=pythondata"
   ]
  },
  {
   "cell_type": "markdown",
   "metadata": {},
   "source": [
    "## 문제"
   ]
  },
  {
   "cell_type": "code",
   "execution_count": null,
   "metadata": {},
   "outputs": [],
   "source": [
    "Table: Employee\n",
    "\n",
    "+--------------+---------+\n",
    "| Column Name  | Type    |\n",
    "+--------------+---------+\n",
    "| id           | int     |\n",
    "| name         | varchar |\n",
    "| salary       | int     |\n",
    "| departmentId | int     |\n",
    "+--------------+---------+\n",
    "id is the primary key (column with unique values) for this table.\n",
    "departmentId is a foreign key (reference column) of the ID from the Department table.\n",
    "Each row of this table indicates the ID, name, and salary of an employee. It also contains the ID of their department.\n",
    " \n",
    "\n",
    "Table: Department\n",
    "\n",
    "+-------------+---------+\n",
    "| Column Name | Type    |\n",
    "+-------------+---------+\n",
    "| id          | int     |\n",
    "| name        | varchar |\n",
    "+-------------+---------+\n",
    "id is the primary key (column with unique values) for this table.\n",
    "Each row of this table indicates the ID of a department and its name.\n",
    " \n",
    "\n",
    "A company's executives are interested in seeing who earns the most money in each of the company's departments. A high earner in a department is an employee who has a salary in the top three unique salaries for that department.\n",
    "\n",
    "Write a solution to find the employees who are high earners in each of the departments.\n",
    "\n",
    "Return the result table in any order.\n",
    "\n",
    "The result format is in the following example.\n",
    "\n",
    " \n",
    "\n",
    "Example 1:\n",
    "\n",
    "Input: \n",
    "Employee table:\n",
    "+----+-------+--------+--------------+\n",
    "| id | name  | salary | departmentId |\n",
    "+----+-------+--------+--------------+\n",
    "| 1  | Joe   | 85000  | 1            |\n",
    "| 2  | Henry | 80000  | 2            |\n",
    "| 3  | Sam   | 60000  | 2            |\n",
    "| 4  | Max   | 90000  | 1            |\n",
    "| 5  | Janet | 69000  | 1            |\n",
    "| 6  | Randy | 85000  | 1            |\n",
    "| 7  | Will  | 70000  | 1            |\n",
    "+----+-------+--------+--------------+\n",
    "Department table:\n",
    "+----+-------+\n",
    "| id | name  |\n",
    "+----+-------+\n",
    "| 1  | IT    |\n",
    "| 2  | Sales |\n",
    "+----+-------+\n",
    "Output: \n",
    "+------------+----------+--------+\n",
    "| Department | Employee | Salary |\n",
    "+------------+----------+--------+\n",
    "| IT         | Max      | 90000  |\n",
    "| IT         | Joe      | 85000  |\n",
    "| IT         | Randy    | 85000  |\n",
    "| IT         | Will     | 70000  |\n",
    "| Sales      | Henry    | 80000  |\n",
    "| Sales      | Sam      | 60000  |\n",
    "+------------+----------+--------+\n",
    "Explanation: \n",
    "In the IT department:\n",
    "- Max earns the highest unique salary\n",
    "- Both Randy and Joe earn the second-highest unique salary\n",
    "- Will earns the third-highest unique salary\n",
    "\n",
    "In the Sales department:\n",
    "- Henry earns the highest salary\n",
    "- Sam earns the second-highest salary\n",
    "- There is no third-highest salary as there are only two employees"
   ]
  },
  {
   "cell_type": "markdown",
   "metadata": {},
   "source": [
    "## 문제풀이"
   ]
  },
  {
   "cell_type": "code",
   "execution_count": null,
   "metadata": {},
   "outputs": [],
   "source": [
    "import pandas as pd\n",
    "\n",
    "def top_three_salaries(employee: pd.DataFrame, department: pd.DataFrame) -> pd.DataFrame:\n",
    "    \n",
    "    employee['dense_rank'] = employee.groupby('departmentId')['salary'].rank(ascending=False, method='dense')\n",
    "    df = pd.merge(employee, department, left_on='departmentId', right_on='id')\n",
    "    answer = df[df['dense_rank'] <= 3]\n",
    "\n",
    "    before = ['name_y', 'name_x', 'salary']\n",
    "    after = ['Department', 'Employee', 'Salary']\n",
    "    answer.rename(columns=dict(zip(before,after)), inplace=True)\n",
    "    return answer[after]"
   ]
  },
  {
   "cell_type": "markdown",
   "metadata": {},
   "source": [
    "* groupby 이후 rank 써주기"
   ]
  },
  {
   "cell_type": "markdown",
   "metadata": {},
   "source": [
    "## 코멘트\n",
    "* rename 과정에서 딕셔너리 전체를 매칭하는 것 보다, after에 있는 값을 중복 사용해야하니 변수에 할당했다.\n",
    "* return시 answer에 미리 지정한 컬럼 after로 편하게 뽑을 수 있다."
   ]
  }
 ],
 "metadata": {
  "kernelspec": {
   "display_name": "base",
   "language": "python",
   "name": "python3"
  },
  "language_info": {
   "name": "python",
   "version": "3.11.5"
  }
 },
 "nbformat": 4,
 "nbformat_minor": 2
}

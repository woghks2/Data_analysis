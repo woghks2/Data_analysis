{
 "cells": [
  {
   "cell_type": "markdown",
   "id": "b6590708-a5d4-4842-895d-d6c79f67cc5f",
   "metadata": {},
   "source": [
    "# 177. Nth Highest Salary"
   ]
  },
  {
   "cell_type": "code",
   "execution_count": null,
   "id": "4d1b1a1a-fecb-403d-ba79-2a6a7d8b6044",
   "metadata": {},
   "outputs": [],
   "source": [
    "'''\n",
    "+-------------+------+\n",
    "| Column Name | Type |\n",
    "+-------------+------+\n",
    "| id          | int  |\n",
    "| salary      | int  |\n",
    "+-------------+------+\n",
    "id is the primary key (column with unique values) for this table.\n",
    "Each row of this table contains information about the salary of an employee.\n",
    " \n",
    "\n",
    "Write a solution to find the nth highest salary from the Employee table. If there is no nth highest salary, return null.\n",
    "\n",
    "The result format is in the following example.\n",
    "\n",
    " \n",
    "\n",
    "Example 1:\n",
    "\n",
    "Input: \n",
    "Employee table:\n",
    "+----+--------+\n",
    "| id | salary |\n",
    "+----+--------+\n",
    "| 1  | 100    |\n",
    "| 2  | 200    |\n",
    "| 3  | 300    |\n",
    "+----+--------+\n",
    "n = 2\n",
    "Output: \n",
    "+------------------------+\n",
    "| getNthHighestSalary(2) |\n",
    "+------------------------+\n",
    "| 200                    |\n",
    "+------------------------+\n",
    "Example 2:\n",
    "\n",
    "Input: \n",
    "Employee table:\n",
    "+----+--------+\n",
    "| id | salary |\n",
    "+----+--------+\n",
    "| 1  | 100    |\n",
    "+----+--------+\n",
    "n = 2\n",
    "Output: \n",
    "+------------------------+\n",
    "| getNthHighestSalary(2) |\n",
    "+------------------------+\n",
    "| null                   |\n",
    "+------------------------+\n",
    "'''"
   ]
  },
  {
   "cell_type": "markdown",
   "id": "694f1614",
   "metadata": {},
   "source": [
    "## 문제풀이\n",
    "* 두 가지 방법으로 풀이.\n",
    "  1. unique를 이용해서 salary의 값만 가져온다음에 sort한 후, N번째 값을 처리하기.\n",
    "  2. dense rank를 통해서 각 salary에 값을 매긴 후 조건식을 걸어줘서 rank가 N인 값을 가져오기 "
   ]
  },
  {
   "cell_type": "markdown",
   "id": "ad9c97ff",
   "metadata": {},
   "source": [
    "## 코드"
   ]
  },
  {
   "cell_type": "code",
   "execution_count": null,
   "id": "e2419359-5635-4ebd-9998-0563b7821933",
   "metadata": {},
   "outputs": [],
   "source": [
    "import pandas as pd\n",
    "\n",
    "def nth_highest_salary(employee: pd.DataFrame, N: int) -> pd.DataFrame:\n",
    "\n",
    "    salary = list(employee['salary'].unique())\n",
    "    salary.sort(reverse=True)\n",
    "\n",
    "    if len(salary) < N or N <= 0:\n",
    "        return pd.DataFrame({f'getNthHighestSalary({N})':[None]})\n",
    "    else:\n",
    "        return pd.DataFrame({f'getNthHighestSalary({N})':[salary[N-1]]})"
   ]
  },
  {
   "cell_type": "markdown",
   "id": "ad0d517f",
   "metadata": {},
   "source": [
    "* unique를 통해서 salary의 고유한 값을 가져온다.\n",
    "* 내림차순으로 정렬 후, 앞에서 N번 째 값을 가져오기.\n",
    "* 입력 N이 음수가 들어오는 경우가 있어서 예외 처리를 해야한다."
   ]
  },
  {
   "cell_type": "code",
   "execution_count": null,
   "id": "f4e641f6-fc2a-4553-b213-98c4b565556a",
   "metadata": {},
   "outputs": [],
   "source": [
    "def nth_highest_salary(employee: pd.DataFrame, N: int) -> pd.DataFrame:\n",
    "\n",
    "    employee['dense_rank'] = employee['salary'].rank(method='dense',ascending=False).astype(int)\n",
    "    Nth_salary = employee[employee['dense_rank'] == N]['salary']\n",
    "\n",
    "    if Nth_salary.empty:\n",
    "        Nth_salary = None\n",
    "    else:\n",
    "        Nth_salary = Nth_salary.iloc[0]\n",
    "    return pd.DataFrame({f'getNthHighestSalary({N})' : [Nth_salary]})"
   ]
  },
  {
   "cell_type": "markdown",
   "id": "c0cfdadf",
   "metadata": {},
   "source": [
    "* rank의 dense를 통해서 SQL의 dense rank처럼 등수를 매겨준다.\n",
    "* 조건을 걸어서 매긴 등수만 일치하면 ok\n",
    "* 맞는 조건의 등수가 없을 수 있어서 empty로 체크를 해준다.\n",
    "* 조건으로 가져온 Nth_salary는 int가 아니라 Series 형태이기 때문에 iloc[0]으로 값을 가져와줘야 한다."
   ]
  },
  {
   "cell_type": "markdown",
   "id": "d63bce10",
   "metadata": {},
   "source": [
    "## 코멘트\n",
    "* 처음엔 1번 풀이로 풀었는데, 1번보단 2번 풀이가 더 좋아보인다.\n",
    "* 동작 속도는 크게 차이는 안나는데 N이 음수인 경우도 들어와서 조건식 처리하는게 조금 더 편한 느낌?\n",
    "* 시리즈, 데이터 프레임이 비어 있을때는 empty를 사용한다.\n",
    "* rank에는 SQL dense rank처럼 method를 지정할 수 있고, 정렬과 마찬가지로 오름차순, 내림차순을 사용 가능하다."
   ]
  }
 ],
 "metadata": {
  "kernelspec": {
   "display_name": "Python 3 (ipykernel)",
   "language": "python",
   "name": "python3"
  },
  "language_info": {
   "codemirror_mode": {
    "name": "ipython",
    "version": 3
   },
   "file_extension": ".py",
   "mimetype": "text/x-python",
   "name": "python",
   "nbconvert_exporter": "python",
   "pygments_lexer": "ipython3",
   "version": "3.11.5"
  }
 },
 "nbformat": 4,
 "nbformat_minor": 5
}

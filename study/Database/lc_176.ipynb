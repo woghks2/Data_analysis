{
 "cells": [
  {
   "cell_type": "markdown",
   "id": "abf78297-532c-4764-82ed-022889e6e878",
   "metadata": {},
   "source": [
    "# 176. Second Highest Salary"
   ]
  },
  {
   "cell_type": "markdown",
   "id": "f9f5512f",
   "metadata": {},
   "source": [
    "## 문제"
   ]
  },
  {
   "cell_type": "code",
   "execution_count": null,
   "id": "3f4eb2c6-4670-4542-a9b7-d864b69e7e66",
   "metadata": {},
   "outputs": [],
   "source": [
    "'''\n",
    "Table: Employee\n",
    "\n",
    "+-------------+------+\n",
    "| Column Name | Type |\n",
    "+-------------+------+\n",
    "| id          | int  |\n",
    "| salary      | int  |\n",
    "+-------------+------+\n",
    "id is the primary key (column with unique values) for this table.\n",
    "Each row of this table contains information about the salary of an employee.\n",
    " \n",
    "\n",
    "Write a solution to find the second highest salary from the Employee table. If there is no second highest salary, return null (return None in Pandas).\n",
    "\n",
    "The result format is in the following example.\n",
    "\n",
    " \n",
    "\n",
    "Example 1:\n",
    "\n",
    "Input: \n",
    "Employee table:\n",
    "+----+--------+\n",
    "| id | salary |\n",
    "+----+--------+\n",
    "| 1  | 100    |\n",
    "| 2  | 200    |\n",
    "| 3  | 300    |\n",
    "+----+--------+\n",
    "Output: \n",
    "+---------------------+\n",
    "| SecondHighestSalary |\n",
    "+---------------------+\n",
    "| 200                 |\n",
    "+---------------------+\n",
    "Example 2:\n",
    "\n",
    "Input: \n",
    "Employee table:\n",
    "+----+--------+\n",
    "| id | salary |\n",
    "+----+--------+\n",
    "| 1  | 100    |\n",
    "+----+--------+\n",
    "Output: \n",
    "+---------------------+\n",
    "| SecondHighestSalary |\n",
    "+---------------------+\n",
    "| null                |\n",
    "+---------------------+\n",
    "'''"
   ]
  },
  {
   "cell_type": "markdown",
   "id": "ae4cfb97",
   "metadata": {},
   "source": [
    "## 문제풀이\n",
    "* Salary가 두 번째로 큰 값을 찾아야 한다.\n",
    "* 고려해야 할 점은, 두 번째로 큰 값이 없으면 Null값을 반환한다.\n",
    "* unique()를 통해서 급여 정보를 받아오고 정렬한다.\n",
    "* 만약 salary 길이가 1보다 큰 경우에는 주어진 조건에 맞춰서 2번째로 큰 값을 가.\n",
    "* 그렇지 않은 경우에는 None을 반환한다.을 반환"
   ]
  },
  {
   "cell_type": "markdown",
   "id": "ed6c07ea",
   "metadata": {},
   "source": [
    "## 코드"
   ]
  },
  {
   "cell_type": "code",
   "execution_count": null,
   "id": "098c3e92-916a-46ad-8e6c-7881593dfd1b",
   "metadata": {},
   "outputs": [],
   "source": [
    "import pandas as pd\n",
    "\n",
    "data = [[1, 100], [2, 200], [3, 300]]\n",
    "employee = pd.DataFrame(data, columns=['id', 'salary']).astype({'id':'int64', 'salary':'int64'})\n",
    "\n",
    "def second_highest_salary(employee: pd.DataFrame) -> pd.DataFrame:\n",
    "\n",
    "    salary = employee['salary'].unique()\n",
    "    salary.sort()\n",
    "    \n",
    "    if len(salary) > 1:\n",
    "        return pd.DataFrame({'SecondHighestSalary': [salary[-2]]})\n",
    "    else:\n",
    "        return pd.DataFrame({'SecondHighestSalary': [None]})\n",
    "\n",
    "print(second_highest_salary(employee))"
   ]
  },
  {
   "cell_type": "markdown",
   "id": "0f97e75f-e091-410a-8cbe-0e05e5a58161",
   "metadata": {},
   "source": [
    "## 코멘트\n",
    "* {col name1 : [v1, v2, ...] } 이런 식으로 컬럼 뒤에는 iterable 가능한 List나 Tuple을 넣어야한다.\n",
    "* 단일 값으로 넣어서 실수하지 않기."
   ]
  }
 ],
 "metadata": {
  "kernelspec": {
   "display_name": "Python 3 (ipykernel)",
   "language": "python",
   "name": "python3"
  },
  "language_info": {
   "codemirror_mode": {
    "name": "ipython",
    "version": 3
   },
   "file_extension": ".py",
   "mimetype": "text/x-python",
   "name": "python",
   "nbconvert_exporter": "python",
   "pygments_lexer": "ipython3",
   "version": "3.11.5"
  }
 },
 "nbformat": 4,
 "nbformat_minor": 5
}
